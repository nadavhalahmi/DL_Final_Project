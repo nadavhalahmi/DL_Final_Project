{
 "cells": [
  {
   "cell_type": "code",
   "execution_count": 1,
   "metadata": {
    "pycharm": {
     "is_executing": false
    },
    "slideshow": {
     "slide_type": "subslide"
    }
   },
   "outputs": [],
   "source": [
    "# Setup\n",
    "%matplotlib inline\n",
    "import os\n",
    "import numpy as np\n",
    "import sklearn\n",
    "import torch\n",
    "import matplotlib.pyplot as plt"
   ]
  },
  {
   "cell_type": "code",
   "execution_count": 2,
   "metadata": {
    "pycharm": {
     "is_executing": false
    },
    "slideshow": {
     "slide_type": "fragment"
    }
   },
   "outputs": [],
   "source": [
    "plt.rcParams['font.size'] = 20\n",
    "use_cuda = True"
   ]
  },
  {
   "cell_type": "code",
   "execution_count": 3,
   "metadata": {
    "pycharm": {
     "is_executing": false
    },
    "slideshow": {
     "slide_type": "subslide"
    }
   },
   "outputs": [],
   "source": [
    "import torch\n",
    "import torch.utils.data\n",
    "import torchvision\n",
    "import torchvision.transforms\n",
    "import torch.nn as nn\n",
    "import torch.nn.functional as F\n",
    "\n",
    "root_dir = os.path.expanduser('~/.pytorch-datasets/')\n",
    "device = torch.device(\"cuda\" if (use_cuda and torch.cuda.is_available()) else \"cpu\")"
   ]
  },
  {
   "cell_type": "code",
   "execution_count": 4,
   "metadata": {
    "pycharm": {
     "is_executing": false
    },
    "slideshow": {
     "slide_type": "subslide"
    }
   },
   "outputs": [
    {
     "name": "stdout",
     "output_type": "stream",
     "text": [
      "x0: torch.Size([1, 28, 28]), y0: 5\n"
     ]
    }
   ],
   "source": [
    "tf_ds = torchvision.transforms.ToTensor()\n",
    "\n",
    "batch_size = 512\n",
    "train_size = batch_size * 10\n",
    "test_size = batch_size * 2\n",
    "\n",
    "# Datasets and loaders\n",
    "ds_train = torchvision.datasets.MNIST(root=root_dir, download=True, train=True, transform=tf_ds)\n",
    "dl_train = torch.utils.data.DataLoader(ds_train, batch_size,\n",
    "                                       sampler=torch.utils.data.SubsetRandomSampler(range(0,train_size)))\n",
    "ds_test =  torchvision.datasets.MNIST(root=root_dir, download=True, train=False, transform=tf_ds)\n",
    "dl_test = torch.utils.data.DataLoader(ds_test, batch_size=1,\n",
    "                                       sampler=torch.utils.data.SubsetRandomSampler(range(0,test_size)))\n",
    "\n",
    "x0, y0 = ds_train[0]\n",
    "n_features = torch.numel(x0)\n",
    "n_classes = 10\n",
    "\n",
    "print(f'x0: {x0.shape}, y0: {y0}')"
   ]
  },
  {
   "cell_type": "code",
   "execution_count": 5,
   "metadata": {
    "pycharm": {
     "is_executing": false
    },
    "slideshow": {
     "slide_type": "subslide"
    }
   },
   "outputs": [],
   "source": [
    "class MLP(torch.nn.Module):\n",
    "    NLS = {'relu': torch.nn.ReLU, 'tanh': nn.Tanh, 'sigmoid': nn.Sigmoid, 'softmax': nn.Softmax, 'logsoftmax': nn.LogSoftmax}\n",
    "\n",
    "    def __init__(self, D_in: int, hidden_dims: list, D_out: int, nonlin='relu'):\n",
    "        super().__init__()\n",
    "        \n",
    "        all_dims = [D_in, *hidden_dims, D_out]\n",
    "        layers = []\n",
    "        \n",
    "        for in_dim, out_dim in zip(all_dims[:-1], all_dims[1:]):\n",
    "            layers += [\n",
    "                nn.Linear(in_dim, out_dim, bias=True),\n",
    "                MLP.NLS[nonlin]()\n",
    "            ]\n",
    "        \n",
    "        self.fc_layers = nn.Sequential(*layers[:-1])\n",
    "        self.log_softmax = nn.LogSoftmax(dim=1)\n",
    "\n",
    "    def forward(self, x):\n",
    "        x = torch.reshape(x, (x.shape[0], -1))\n",
    "        z = self.fc_layers(x)\n",
    "        y_pred = self.log_softmax(z)\n",
    "        return y_pred"
   ]
  },
  {
   "cell_type": "code",
   "execution_count": 6,
   "metadata": {
    "pycharm": {
     "is_executing": false
    },
    "slideshow": {
     "slide_type": "subslide"
    }
   },
   "outputs": [],
   "source": [
    "import torch.optim\n",
    "\n",
    "# Loss:\n",
    "# Note: NLLLoss assumes *log*-probabilities (given by our LogSoftmax layer)\n",
    "loss_fn = nn.NLLLoss()"
   ]
  },
  {
   "cell_type": "code",
   "execution_count": 7,
   "metadata": {
    "pycharm": {
     "is_executing": false
    },
    "slideshow": {
     "slide_type": "fragment"
    }
   },
   "outputs": [],
   "source": [
    "# Model for training\n",
    "model = MLP(D_in=n_features, hidden_dims=[32, 32, 32], D_out=n_classes, nonlin='relu').to(device)\n",
    "\n",
    "# Optimizer over our model's parameters\n",
    "optimizer = torch.optim.SGD(params=model.parameters(), lr=5e-2, weight_decay=0.01, momentum=0.9)"
   ]
  },
  {
   "cell_type": "code",
   "execution_count": 8,
   "metadata": {
    "pycharm": {
     "is_executing": false
    }
   },
   "outputs": [],
   "source": [
    "epsilons = [0, .05, .1, .15, .2, .25, .3]\n",
    "\n",
    "# FGSM attack code\n",
    "def fgsm_attack(image, epsilon, data_grad):\n",
    "    # Collect the element-wise sign of the data gradient\n",
    "    sign_data_grad = data_grad.sign()\n",
    "    # Create the perturbed image by adjusting each pixel of the input image\n",
    "    perturbed_image = image + epsilon*sign_data_grad\n",
    "    # Adding clipping to maintain [0,1] range\n",
    "    perturbed_image = torch.clamp(perturbed_image, 0, 1)\n",
    "    # Return the perturbed image\n",
    "    return perturbed_image"
   ]
  },
  {
   "cell_type": "code",
   "execution_count": 11,
   "metadata": {
    "pycharm": {
     "is_executing": false
    },
    "slideshow": {
     "slide_type": "subslide"
    }
   },
   "outputs": [],
   "source": [
    "def train(adversarial = True, epsilon=0):\n",
    "    num_epochs = 100\n",
    "    for epoch_idx in range(num_epochs):\n",
    "        total_loss = 0\n",
    "        num_adv = 0\n",
    "\n",
    "        for batch_idx, (X, y) in enumerate(dl_train):\n",
    "            if adversarial:\n",
    "                # Set requires_grad attribute of tensor. Important for adversarial training\n",
    "                X.requires_grad = True\n",
    "\n",
    "            # Forward pass\n",
    "            y_pred = model(X)\n",
    "\n",
    "            # Compute loss\n",
    "            loss = loss_fn(y_pred, y)\n",
    "            total_loss += loss.item()\n",
    "\n",
    "            # Backward pass\n",
    "            optimizer.zero_grad() # Zero gradients of all parameters\n",
    "            loss.backward()       # Run backprop algorithms to calculate gradients\n",
    "\n",
    "            # Optimization step\n",
    "            optimizer.step()      # Use gradients to update model parameters\n",
    "            if adversarial:\n",
    "                # Adversarial training\n",
    "                init_pred = y_pred[0].max(0, keepdim=True)[1] # get the index of the max log-probability\n",
    "\n",
    "                # If the initial prediction is wrong, dont bother attacking, just move on\n",
    "                if init_pred.item() != y[0].item():\n",
    "                    continue\n",
    "                    \n",
    "                num_adv += 1 \n",
    "\n",
    "                # Collect datagrad\n",
    "                data_grad = X.grad.data[0]\n",
    "\n",
    "                # Call FGSM Attack\n",
    "                perturbed_data = fgsm_attack(X[0], epsilon, data_grad)\n",
    "\n",
    "                # Re-classify the perturbed image\n",
    "                y_pred = model(perturbed_data)\n",
    "\n",
    "                # Compute loss\n",
    "                loss = loss_fn(y_pred.view(1,-1),y[0].view(1))\n",
    "                total_loss += loss.item()\n",
    "\n",
    "                # Backward pass\n",
    "                optimizer.zero_grad() # Zero gradients of all parameters\n",
    "                loss.backward()       # Run backprop algorithms to calculate gradients\n",
    "\n",
    "                # Optimization step\n",
    "                optimizer.step()      # Use gradients to update model parameters\n",
    "\n",
    "        print(f'Epoch #{epoch_idx+1}: Avg. loss={total_loss/(len(dl_train)+num_adv)}')"
   ]
  },
  {
   "cell_type": "code",
   "execution_count": 12,
   "metadata": {},
   "outputs": [
    {
     "name": "stdout",
     "output_type": "stream",
     "text": [
      "Epoch #1: Avg. loss=2.302166771888733\n",
      "Epoch #2: Avg. loss=2.2457494835058847\n",
      "Epoch #3: Avg. loss=2.2029100981625644\n",
      "Epoch #4: Avg. loss=1.9528395304313073\n",
      "Epoch #5: Avg. loss=1.74638285043721\n",
      "Epoch #6: Avg. loss=1.6583895975580583\n",
      "Epoch #7: Avg. loss=1.5727800471442086\n",
      "Epoch #8: Avg. loss=1.2333531381736975\n",
      "Epoch #9: Avg. loss=1.0702571197257689\n",
      "Epoch #10: Avg. loss=1.0148040211061016\n",
      "Epoch #11: Avg. loss=1.0672021615318954\n",
      "Epoch #12: Avg. loss=0.9816603153633575\n",
      "Epoch #13: Avg. loss=0.9700346190894427\n",
      "Epoch #14: Avg. loss=1.3938857481814921\n",
      "Epoch #15: Avg. loss=1.0549671366570388\n",
      "Epoch #16: Avg. loss=0.8130958999189555\n",
      "Epoch #17: Avg. loss=0.9691938648621241\n",
      "Epoch #18: Avg. loss=1.4602110557914463\n",
      "Epoch #19: Avg. loss=1.4826936101576744\n",
      "Epoch #20: Avg. loss=1.18721648187687\n",
      "Epoch #21: Avg. loss=0.9924226419689754\n",
      "Epoch #22: Avg. loss=1.220376261509955\n",
      "Epoch #23: Avg. loss=1.080256904640919\n",
      "Epoch #24: Avg. loss=0.9555919231737361\n",
      "Epoch #25: Avg. loss=0.8202969867084499\n",
      "Epoch #26: Avg. loss=1.306158727833203\n",
      "Epoch #27: Avg. loss=1.0252706705728392\n",
      "Epoch #28: Avg. loss=1.0399967955963803\n",
      "Epoch #29: Avg. loss=0.74337676580177\n",
      "Epoch #30: Avg. loss=0.7110445041548433\n",
      "Epoch #31: Avg. loss=0.5650604344432635\n",
      "Epoch #32: Avg. loss=0.6150280988222221\n",
      "Epoch #33: Avg. loss=0.5885948880523857\n",
      "Epoch #34: Avg. loss=0.8359115201164968\n",
      "Epoch #35: Avg. loss=0.7202571805849273\n",
      "Epoch #36: Avg. loss=0.848444535780479\n",
      "Epoch #37: Avg. loss=0.9511516197394485\n",
      "Epoch #38: Avg. loss=0.7439796092974789\n",
      "Epoch #39: Avg. loss=0.614177156227275\n",
      "Epoch #40: Avg. loss=0.6632776307640598\n",
      "Epoch #41: Avg. loss=0.5694373491381103\n",
      "Epoch #42: Avg. loss=0.5711107976838119\n",
      "Epoch #43: Avg. loss=0.5734816129123302\n",
      "Epoch #44: Avg. loss=0.5201198475115234\n",
      "Epoch #45: Avg. loss=0.5085694456253859\n",
      "Epoch #46: Avg. loss=0.6361128276265744\n",
      "Epoch #47: Avg. loss=0.7040879415238604\n",
      "Epoch #48: Avg. loss=0.5742831819635981\n",
      "Epoch #49: Avg. loss=0.5184723162982503\n",
      "Epoch #50: Avg. loss=0.4826333361408232\n",
      "Epoch #51: Avg. loss=0.6383463911006402\n",
      "Epoch #52: Avg. loss=0.533082594309235\n",
      "Epoch #53: Avg. loss=0.5408156727861362\n",
      "Epoch #54: Avg. loss=0.617031533365566\n",
      "Epoch #55: Avg. loss=0.7954317810945213\n",
      "Epoch #56: Avg. loss=0.8213141976636561\n",
      "Epoch #57: Avg. loss=0.8952311567598675\n",
      "Epoch #58: Avg. loss=0.8384544052241836\n",
      "Epoch #59: Avg. loss=0.7267544362830449\n",
      "Epoch #60: Avg. loss=0.6029125538577015\n",
      "Epoch #61: Avg. loss=0.7512917569431866\n",
      "Epoch #62: Avg. loss=0.9816173116354548\n",
      "Epoch #63: Avg. loss=0.6482865489568213\n",
      "Epoch #64: Avg. loss=0.8343642541221925\n",
      "Epoch #65: Avg. loss=1.2470606142034133\n",
      "Epoch #66: Avg. loss=0.9333555030891887\n",
      "Epoch #67: Avg. loss=0.8562762145884335\n",
      "Epoch #68: Avg. loss=0.7547997051433413\n",
      "Epoch #69: Avg. loss=0.8479574052616954\n",
      "Epoch #70: Avg. loss=1.089844344817239\n",
      "Epoch #71: Avg. loss=1.0605203971266746\n",
      "Epoch #72: Avg. loss=0.9586623572213284\n",
      "Epoch #73: Avg. loss=0.8552024424951696\n",
      "Epoch #74: Avg. loss=0.7176378695842098\n",
      "Epoch #75: Avg. loss=0.7330962925108098\n",
      "Epoch #76: Avg. loss=0.5856072648757082\n",
      "Epoch #77: Avg. loss=0.6615549610698295\n",
      "Epoch #78: Avg. loss=0.9551885113640524\n",
      "Epoch #79: Avg. loss=1.0074954533151217\n",
      "Epoch #80: Avg. loss=1.0376811314906393\n",
      "Epoch #81: Avg. loss=0.8037712958643574\n",
      "Epoch #82: Avg. loss=0.8563544913160834\n",
      "Epoch #83: Avg. loss=0.9574602026837624\n",
      "Epoch #84: Avg. loss=1.0543396786470112\n",
      "Epoch #85: Avg. loss=0.8541467587056104\n",
      "Epoch #86: Avg. loss=0.8424662242436575\n",
      "Epoch #87: Avg. loss=1.207307610398857\n",
      "Epoch #88: Avg. loss=1.1689436248469813\n",
      "Epoch #89: Avg. loss=1.201654140779283\n",
      "Epoch #90: Avg. loss=0.9756360374103679\n",
      "Epoch #91: Avg. loss=1.0878482428105438\n",
      "Epoch #92: Avg. loss=0.8448140828832573\n",
      "Epoch #93: Avg. loss=0.8825151601486141\n",
      "Epoch #94: Avg. loss=0.7648353193439749\n",
      "Epoch #95: Avg. loss=0.9338539857417345\n",
      "Epoch #96: Avg. loss=0.7433043426638452\n",
      "Epoch #97: Avg. loss=0.854027756582218\n",
      "Epoch #98: Avg. loss=0.7285812406667641\n",
      "Epoch #99: Avg. loss=0.7685718078282662\n",
      "Epoch #100: Avg. loss=1.1929202342734617\n"
     ]
    }
   ],
   "source": [
    "train(True)"
   ]
  },
  {
   "cell_type": "code",
   "execution_count": 13,
   "metadata": {
    "pycharm": {
     "is_executing": false
    }
   },
   "outputs": [],
   "source": [
    "def test( model, device, test_loader, epsilon ):\n",
    "\n",
    "    # Accuracy counter\n",
    "    correct = 0\n",
    "    adv_examples = []\n",
    "\n",
    "    # Loop over all examples in test set\n",
    "    for data, target in test_loader:\n",
    "\n",
    "        # Send the data and label to the device\n",
    "        data, target = data.to(device), target.to(device)\n",
    "\n",
    "        # Set requires_grad attribute of tensor. Important for Attack\n",
    "        data.requires_grad = True\n",
    "\n",
    "        # Forward pass the data through the model\n",
    "        output = model(data)\n",
    "        init_pred = output.max(1, keepdim=True)[1] # get the index of the max log-probability\n",
    "\n",
    "        # If the initial prediction is wrong, dont bother attacking, just move on\n",
    "        if init_pred.item() != target.item():\n",
    "            continue\n",
    "\n",
    "        # Calculate the loss\n",
    "        loss = F.nll_loss(output, target)\n",
    "\n",
    "        # Zero all existing gradients\n",
    "        model.zero_grad()\n",
    "\n",
    "        # Calculate gradients of model in backward pass\n",
    "        loss.backward()\n",
    "\n",
    "        # Collect datagrad\n",
    "        data_grad = data.grad.data\n",
    "\n",
    "        # Call FGSM Attack\n",
    "        perturbed_data = fgsm_attack(data, epsilon, data_grad)\n",
    "\n",
    "        # Re-classify the perturbed image\n",
    "        output = model(perturbed_data)\n",
    "\n",
    "        # Check for success\n",
    "        final_pred = output.max(1, keepdim=True)[1] # get the index of the max log-probability\n",
    "        if final_pred.item() == target.item():\n",
    "            correct += 1\n",
    "            # Special case for saving 0 epsilon examples\n",
    "            if (epsilon == 0) and (len(adv_examples) < 5):\n",
    "                adv_ex = perturbed_data.squeeze().detach().cpu().numpy()\n",
    "                adv_examples.append( (init_pred.item(), final_pred.item(), adv_ex) )\n",
    "        else:\n",
    "            # Save some adv examples for visualization later\n",
    "            if len(adv_examples) < 5:\n",
    "                adv_ex = perturbed_data.squeeze().detach().cpu().numpy()\n",
    "                adv_examples.append( (init_pred.item(), final_pred.item(), adv_ex) )\n",
    "\n",
    "    # Calculate final accuracy for this epsilon\n",
    "    final_acc = correct/float(len(test_loader))\n",
    "    print(\"Epsilon: {}\\tTest Accuracy = {} / {} = {}\".format(epsilon, correct, len(test_loader), final_acc))\n",
    "\n",
    "    # Return the accuracy and an adversarial example\n",
    "    return final_acc, adv_examples"
   ]
  },
  {
   "cell_type": "code",
   "execution_count": 14,
   "metadata": {
    "collapsed": false,
    "jupyter": {
     "outputs_hidden": false
    },
    "pycharm": {
     "is_executing": true
    }
   },
   "outputs": [
    {
     "name": "stdout",
     "output_type": "stream",
     "text": [
      "Epsilon: 0\tTest Accuracy = 412 / 1024 = 0.40234375\n",
      "Epsilon: 0.05\tTest Accuracy = 321 / 1024 = 0.3134765625\n",
      "Epsilon: 0.1\tTest Accuracy = 195 / 1024 = 0.1904296875\n",
      "Epsilon: 0.15\tTest Accuracy = 87 / 1024 = 0.0849609375\n",
      "Epsilon: 0.2\tTest Accuracy = 59 / 1024 = 0.0576171875\n",
      "Epsilon: 0.25\tTest Accuracy = 36 / 1024 = 0.03515625\n",
      "Epsilon: 0.3\tTest Accuracy = 29 / 1024 = 0.0283203125\n"
     ]
    }
   ],
   "source": [
    "accuracies = []\n",
    "examples = []\n",
    "\n",
    "# Run test for each epsilon\n",
    "for eps in epsilons:\n",
    "    acc, ex = test(model, device, dl_test, eps)\n",
    "    accuracies.append(acc)\n",
    "    examples.append(ex)"
   ]
  },
  {
   "cell_type": "markdown",
   "metadata": {},
   "source": [
    "Results\n",
    "-------\n",
    "\n",
    "Accuracy vs Epsilon\n",
    "~~~~~~~~~~~~~~~~~~~\n"
   ]
  },
  {
   "cell_type": "markdown",
   "metadata": {},
   "source": [
    "The first result is the accuracy versus epsilon plot. As alluded to\n",
    "earlier, as epsilon increases we expect the test accuracy to decrease.\n",
    "This is because larger epsilons mean we take a larger step in the\n",
    "direction that will maximize the loss. Notice the trend in the curve is\n",
    "not linear even though the $\\epsilon$ values are linearly spaced. For\n",
    "example, the accuracy at $\\epsilon=0.05$ is only about 4% lower\n",
    "than $\\epsilon=0$, but the accuracy at $\\epsilon=0.2$ is 25%\n",
    "lower than $\\epsilon=0.15$. Also, notice the accuracy of the model\n",
    "hits random accuracy for a 10-class classifier between\n",
    "$\\epsilon=0.25$ and $\\epsilon=0.3$."
   ]
  },
  {
   "cell_type": "code",
   "execution_count": 15,
   "metadata": {
    "collapsed": false,
    "jupyter": {
     "outputs_hidden": false
    },
    "pycharm": {
     "is_executing": true
    }
   },
   "outputs": [
    {
     "data": {
      "image/png": "[encoded data removed]",
      "text/plain": [
       "<Figure size 360x360 with 1 Axes>"
      ]
     },
     "metadata": {
      "needs_background": "light"
     },
     "output_type": "display_data"
    }
   ],
   "source": [
    "plt.figure(figsize=(5,5))\n",
    "plt.plot(epsilons, accuracies, \"*-\")\n",
    "plt.yticks(np.arange(0, 1.1, step=0.1))\n",
    "plt.xticks(np.arange(0, .35, step=0.05))\n",
    "plt.title(\"Accuracy vs Epsilon\")\n",
    "plt.xlabel(\"Epsilon\")\n",
    "plt.ylabel(\"Accuracy\")\n",
    "plt.show()"
   ]
  },
  {
   "cell_type": "markdown",
   "metadata": {},
   "source": [
    "**Sample Adversarial Examples**\n"
   ]
  },
  {
   "cell_type": "markdown",
   "metadata": {},
   "source": [
    "Remember the idea of no free lunch? In this case, as epsilon increases\n",
    "the test accuracy decreases **BUT** the perturbations become more easily\n",
    "perceptible. In reality, there is a tradeoff between accuracy\n",
    "degredation and perceptibility that an attacker must consider. Here, we\n",
    "show some examples of successful adversarial examples at each epsilon\n",
    "value. Each row of the plot shows a different epsilon value. The first\n",
    "row is the $\\epsilon=0$ examples which represent the original\n",
    "“clean” images with no perturbation. The title of each image shows the\n",
    "“original classification -> adversarial classification.” Notice, the\n",
    "perturbations start to become evident at $\\epsilon=0.15$ and are\n",
    "quite evident at $\\epsilon=0.3$. However, in all cases humans are\n",
    "still capable of identifying the correct class despite the added noise."
   ]
  },
  {
   "cell_type": "code",
   "execution_count": 16,
   "metadata": {
    "collapsed": false,
    "jupyter": {
     "outputs_hidden": false
    },
    "pycharm": {
     "is_executing": true
    }
   },
   "outputs": [
    {
     "data": {
      "image/png": "[encoded data removed]",
      "text/plain": [
       "<Figure size 576x720 with 35 Axes>"
      ]
     },
     "metadata": {},
     "output_type": "display_data"
    }
   ],
   "source": [
    "# Plot several examples of adversarial samples at each epsilon\n",
    "cnt = 0\n",
    "plt.figure(figsize=(8,10))\n",
    "for i in range(len(epsilons)):\n",
    "    for j in range(len(examples[i])):\n",
    "        cnt += 1\n",
    "        plt.subplot(len(epsilons),len(examples[0]),cnt)\n",
    "        plt.xticks([], [])\n",
    "        plt.yticks([], [])\n",
    "        if j == 0:\n",
    "            plt.ylabel(\"Eps: {}\".format(epsilons[i]), fontsize=14)\n",
    "        orig,adv,ex = examples[i][j]\n",
    "        plt.title(\"{} -> {}\".format(orig, adv))\n",
    "        plt.imshow(ex, cmap=\"gray\")\n",
    "plt.tight_layout()\n",
    "plt.show()"
   ]
  },
  {
   "cell_type": "markdown",
   "metadata": {},
   "source": [
    "Where to go next?\n",
    "-----------------\n",
    "\n",
    "Hopefully this tutorial gives some insight into the topic of adversarial\n",
    "machine learning. There are many potential directions to go from here.\n",
    "This attack represents the very beginning of adversarial attack research\n",
    "and since there have been many subsequent ideas for how to attack and\n",
    "defend ML models from an adversary. In fact, at NIPS 2017 there was an\n",
    "adversarial attack and defense competition and many of the methods used\n",
    "in the competition are described in this paper: `Adversarial Attacks and\n",
    "Defences Competition <https://arxiv.org/pdf/1804.00097.pdf>`__. The work\n",
    "on defense also leads into the idea of making machine learning models\n",
    "more *robust* in general, to both naturally perturbed and adversarially\n",
    "crafted inputs.\n",
    "\n",
    "Another direction to go is adversarial attacks and defense in different\n",
    "domains. Adversarial research is not limited to the image domain, check\n",
    "out `this <https://arxiv.org/pdf/1801.01944.pdf>`__ attack on\n",
    "speech-to-text models. But perhaps the best way to learn more about\n",
    "adversarial machine learning is to get your hands dirty. Try to\n",
    "implement a different attack from the NIPS 2017 competition, and see how\n",
    "it differs from FGSM. Then, try to defend the model from your own\n",
    "attacks.\n",
    "\n",
    "\n"
   ]
  },
  {
   "cell_type": "code",
   "execution_count": null,
   "metadata": {
    "pycharm": {
     "is_executing": true
    }
   },
   "outputs": [],
   "source": []
  }
 ],
 "metadata": {
  "celltoolbar": "Slideshow",
  "kernelspec": {
   "display_name": "PyCharm (hw1)",
   "language": "python",
   "name": "pycharm-89267ab8"
  },
  "language_info": {
   "codemirror_mode": {
    "name": "ipython",
    "version": 3
   },
   "file_extension": ".py",
   "mimetype": "text/x-python",
   "name": "python",
   "nbconvert_exporter": "python",
   "pygments_lexer": "ipython3",
   "version": "3.7.4"
  },
  "pycharm": {
   "stem_cell": {
    "cell_type": "raw",
    "metadata": {
     "collapsed": false
    },
    "source": []
   }
  }
 },
 "nbformat": 4,
 "nbformat_minor": 4
}
